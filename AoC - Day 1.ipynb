{
 "cells": [
  {
   "cell_type": "markdown",
   "metadata": {},
   "source": [
    "# AoC - Day 1"
   ]
  },
  {
   "cell_type": "code",
   "execution_count": 3,
   "metadata": {},
   "outputs": [],
   "source": [
    "from math import floor"
   ]
  },
  {
   "cell_type": "markdown",
   "metadata": {},
   "source": [
    "## Part 1 - Problem Statement"
   ]
  },
  {
   "cell_type": "markdown",
   "metadata": {},
   "source": [
    "Fuel required to launch a given module is based on its mass.\n",
    "Specifically, to find the fuel required for a module, \n",
    "take its mass, divide by three, round down, and subtract 2."
   ]
  },
  {
   "cell_type": "markdown",
   "metadata": {},
   "source": [
    "## Solution"
   ]
  },
  {
   "cell_type": "code",
   "execution_count": 4,
   "metadata": {},
   "outputs": [],
   "source": [
    "def fuel(mass):\n",
    "    return floor(mass / 3) - 2"
   ]
  },
  {
   "cell_type": "markdown",
   "metadata": {},
   "source": [
    "## Tests\n",
    "\n",
    "* For a mass of 12, divide by 3 and round down to get 4, then subtract 2 to get 2.\n",
    "* For a mass of 14, dividing by 3 and rounding down still yields 4, so the fuel required is also 2.\n",
    "* For a mass of 1969, the fuel required is 654.\n",
    "* For a mass of 100756, the fuel required is 33583."
   ]
  },
  {
   "cell_type": "code",
   "execution_count": 6,
   "metadata": {},
   "outputs": [],
   "source": [
    "assert fuel(12) == 2\n",
    "assert fuel(14) == 2\n",
    "assert fuel(1969) == 654\n",
    "assert fuel(100756) == 33583"
   ]
  },
  {
   "cell_type": "markdown",
   "metadata": {},
   "source": [
    "## Input"
   ]
  },
  {
   "cell_type": "code",
   "execution_count": 9,
   "metadata": {},
   "outputs": [],
   "source": [
    "data = \"\"\"\n",
    "50951\n",
    "69212\n",
    "119076\n",
    "124303\n",
    "95335\n",
    "65069\n",
    "109778\n",
    "113786\n",
    "124821\n",
    "103423\n",
    "128775\n",
    "111918\n",
    "138158\n",
    "141455\n",
    "92800\n",
    "50908\n",
    "107279\n",
    "77352\n",
    "129442\n",
    "60097\n",
    "84670\n",
    "143682\n",
    "104335\n",
    "105729\n",
    "87948\n",
    "59542\n",
    "81481\n",
    "147508\n",
    "62687\n",
    "64212\n",
    "66794\n",
    "99506\n",
    "137804\n",
    "135065\n",
    "135748\n",
    "110879\n",
    "114412\n",
    "120414\n",
    "72723\n",
    "50412\n",
    "124079\n",
    "57885\n",
    "95601\n",
    "74974\n",
    "69000\n",
    "66567\n",
    "118274\n",
    "136432\n",
    "110395\n",
    "88893\n",
    "124962\n",
    "74296\n",
    "106148\n",
    "59764\n",
    "123059\n",
    "106473\n",
    "50725\n",
    "116256\n",
    "80314\n",
    "60965\n",
    "134002\n",
    "53389\n",
    "82528\n",
    "144323\n",
    "87791\n",
    "128288\n",
    "109929\n",
    "64373\n",
    "114510\n",
    "116897\n",
    "84697\n",
    "75358\n",
    "109246\n",
    "110681\n",
    "94543\n",
    "92590\n",
    "69865\n",
    "83912\n",
    "124275\n",
    "94276\n",
    "98210\n",
    "69752\n",
    "100315\n",
    "142879\n",
    "94783\n",
    "111939\n",
    "64170\n",
    "83629\n",
    "138743\n",
    "141238\n",
    "77068\n",
    "119299\n",
    "81095\n",
    "96515\n",
    "126853\n",
    "87563\n",
    "101299\n",
    "130240\n",
    "62693\n",
    "139018\n",
    "\"\"\""
   ]
  },
  {
   "cell_type": "code",
   "execution_count": 12,
   "metadata": {},
   "outputs": [
    {
     "name": "stdout",
     "output_type": "stream",
     "text": [
      "3295539.0\n"
     ]
    }
   ],
   "source": [
    "solution = sum(fuel(int(mass)) for mass in data.split())\n",
    "print(solution)"
   ]
  },
  {
   "cell_type": "markdown",
   "metadata": {},
   "source": [
    "## Problem Statement - Part 2"
   ]
  },
  {
   "cell_type": "markdown",
   "metadata": {},
   "source": [
    "For each module mass, calculate its fuel and add it to the total.\n",
    "Then, treat the fuel amount you just calculated as the input mass\n",
    "and repeat the process, continuing until a fuel requirement is zero\n",
    "or negative."
   ]
  },
  {
   "cell_type": "markdown",
   "metadata": {},
   "source": [
    "## Solution"
   ]
  },
  {
   "cell_type": "code",
   "execution_count": 16,
   "metadata": {},
   "outputs": [],
   "source": [
    "def fuel_steps(initial_mass):\n",
    "    current_fuel = fuel(initial_mass)\n",
    "    \n",
    "    while current_fuel > 0:\n",
    "        yield current_fuel\n",
    "        current_fuel = fuel(current_fuel)"
   ]
  },
  {
   "cell_type": "code",
   "execution_count": 17,
   "metadata": {},
   "outputs": [],
   "source": [
    "def total_fuel(initial_mass):\n",
    "    return sum(fuel_steps(initial_mass))"
   ]
  },
  {
   "cell_type": "markdown",
   "metadata": {},
   "source": [
    "## Tests"
   ]
  },
  {
   "cell_type": "markdown",
   "metadata": {},
   "source": [
    "* A module of mass 14 requires 2 fuel. \n",
    "* A module of mass 1969 requires 966 fuel.\n",
    "* A module of mass 100756 requires 50346."
   ]
  },
  {
   "cell_type": "code",
   "execution_count": 20,
   "metadata": {},
   "outputs": [],
   "source": [
    "assert total_fuel(14) == 2\n",
    "assert total_fuel(1969) == 966\n",
    "assert total_fuel(100756) == 50346"
   ]
  },
  {
   "cell_type": "code",
   "execution_count": 21,
   "metadata": {},
   "outputs": [
    {
     "name": "stdout",
     "output_type": "stream",
     "text": [
      "4940441.0\n"
     ]
    }
   ],
   "source": [
    "solution = sum(total_fuel(int(mass)) for mass in data.split())\n",
    "print(solution)"
   ]
  }
 ],
 "metadata": {
  "anaconda-cloud": {},
  "kernelspec": {
   "display_name": "Python [conda env:root] *",
   "language": "python",
   "name": "conda-root-py"
  },
  "language_info": {
   "codemirror_mode": {
    "name": "ipython",
    "version": 2
   },
   "file_extension": ".py",
   "mimetype": "text/x-python",
   "name": "python",
   "nbconvert_exporter": "python",
   "pygments_lexer": "ipython2",
   "version": "2.7.15"
  }
 },
 "nbformat": 4,
 "nbformat_minor": 2
}
