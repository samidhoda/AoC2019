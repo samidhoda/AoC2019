{
 "cells": [
  {
   "cell_type": "markdown",
   "metadata": {},
   "source": [
    "# AoC - Day 5"
   ]
  },
  {
   "cell_type": "markdown",
   "metadata": {},
   "source": [
    "## Part 1 - Problem Statement"
   ]
  },
  {
   "cell_type": "markdown",
   "metadata": {},
   "source": [
    "The Thermal Environment Supervision Terminal (TEST) starts by running a diagnostic program (your puzzle input). The TEST diagnostic program will run on your existing Intcode computer after a few modifications:\n",
    "\n",
    "First, you'll need to add two new instructions:\n",
    "\n",
    "Opcode 3 takes a single integer as input and saves it to the position given by its only parameter. For example, the instruction 3,50 would take an input value and store it at address 50.\n",
    "Opcode 4 outputs the value of its only parameter. For example, the instruction 4,50 would output the value at address 50.\n",
    "Programs that use these instructions will come with documentation that explains what should be connected to the input and output. The program 3,0,4,0,99 outputs whatever it gets as input, then halts.\n",
    "\n",
    "Second, you'll need to add support for parameter modes:\n",
    "\n",
    "Each parameter of an instruction is handled based on its parameter mode. Right now, your ship computer already understands parameter mode 0, position mode, which causes the parameter to be interpreted as a position - if the parameter is 50, its value is the value stored at address 50 in memory. Until now, all parameters have been in position mode.\n",
    "\n",
    "Now, your ship computer will also need to handle parameters in mode 1, immediate mode. In immediate mode, a parameter is interpreted as a value - if the parameter is 50, its value is simply 50.\n",
    "\n",
    "Parameter modes are stored in the same value as the instruction's opcode. The opcode is a two-digit number based only on the ones and tens digit of the value, that is, the opcode is the rightmost two digits of the first value in an instruction. Parameter modes are single digits, one per parameter, read right-to-left from the opcode: the first parameter's mode is in the hundreds digit, the second parameter's mode is in the thousands digit, the third parameter's mode is in the ten-thousands digit, and so on. Any missing modes are 0.\n",
    "\n",
    "Parameters that an instruction writes to will never be in immediate mode.\n",
    "\n",
    "Finally, some notes:\n",
    "\n",
    "It is important to remember that the instruction pointer should increase by the number of values in the instruction after the instruction finishes. Because of the new instructions, this amount is no longer always 4.\n",
    "Integers can be negative: 1101,100,-1,4,0 is a valid program (find 100 + -1, store the result in position 4)."
   ]
  },
  {
   "cell_type": "markdown",
   "metadata": {},
   "source": [
    "## Solution"
   ]
  },
  {
   "cell_type": "code",
   "execution_count": 1,
   "metadata": {},
   "outputs": [],
   "source": [
    "from functools import reduce\n",
    "import operator"
   ]
  },
  {
   "cell_type": "code",
   "execution_count": 2,
   "metadata": {},
   "outputs": [],
   "source": [
    "def read_program(program):\n",
    "    return [int(token) for token in program.split(',')]"
   ]
  },
  {
   "cell_type": "code",
   "execution_count": 3,
   "metadata": {},
   "outputs": [],
   "source": [
    "def build_memory(program):\n",
    "    return dict(enumerate(read_program(program)))"
   ]
  },
  {
   "cell_type": "code",
   "execution_count": 4,
   "metadata": {},
   "outputs": [],
   "source": [
    "operation = {\n",
    "    '01': 'add',\n",
    "    '02': 'multiply',\n",
    "    '03': 'input',\n",
    "    '04': 'output'\n",
    "}"
   ]
  },
  {
   "cell_type": "code",
   "execution_count": 5,
   "metadata": {},
   "outputs": [],
   "source": [
    "mode = {\n",
    "    '0': 'position',\n",
    "    '1': 'immediate'\n",
    "}"
   ]
  },
  {
   "cell_type": "code",
   "execution_count": 6,
   "metadata": {},
   "outputs": [],
   "source": [
    "def parse_opcode(opcode):\n",
    "    opcode = f'{opcode:05}'\n",
    "    instruction = opcode[3:]\n",
    "    \n",
    "    op = operation[instruction]\n",
    "    if op in ('add', 'multiply'):\n",
    "        return {\n",
    "            'operation': op,\n",
    "            'mode_param1': mode[opcode[2]],\n",
    "            'mode_param2': mode[opcode[1]],\n",
    "            'mode_param3': 'target',\n",
    "            'ip_shift': 4\n",
    "        }\n",
    "    elif op in ('input', 'output'):\n",
    "        return {\n",
    "            'operation': op,\n",
    "            'mode_param1': 'target' if mode[opcode[2]] != 'immediate' else 'immediate',\n",
    "            'ip_shift': 2\n",
    "        }\n",
    "    else:\n",
    "        assert False"
   ]
  },
  {
   "cell_type": "code",
   "execution_count": 7,
   "metadata": {},
   "outputs": [],
   "source": [
    "def get_param_value(memory, mode, value):\n",
    "    return memory[value] if mode == 'position' else value"
   ]
  },
  {
   "cell_type": "code",
   "execution_count": 8,
   "metadata": {},
   "outputs": [],
   "source": [
    "def parse_instruction(ip, memory):\n",
    "    opcode = memory[ip]\n",
    "    instruction = parse_opcode(opcode)\n",
    "    \n",
    "    operation = instruction['operation']\n",
    "    if operation in ('add', 'multiply'):\n",
    "        param1 = get_param_value(memory, instruction['mode_param1'], memory[ip+1])\n",
    "        param2 = get_param_value(memory, instruction['mode_param2'], memory[ip+2])\n",
    "        param3 = get_param_value(memory, instruction['mode_param3'], memory[ip+3])\n",
    "        return {'operation': operation,\n",
    "                'param1': param1,\n",
    "                'param2': param2,\n",
    "                'param3': param3,\n",
    "                'next_ip': ip + instruction['ip_shift']}\n",
    "    elif operation in ('input', 'output'):\n",
    "        param1 = get_param_value(memory, instruction['mode_param1'], memory[ip+1])\n",
    "        return {'operation': operation,\n",
    "                'param1': param1,\n",
    "                'mode_param1': instruction['mode_param1'],\n",
    "                'next_ip': ip + instruction['ip_shift']}\n",
    "    else:\n",
    "        assert False"
   ]
  },
  {
   "cell_type": "code",
   "execution_count": 9,
   "metadata": {},
   "outputs": [],
   "source": [
    "def execute_instruction(ip, memory):\n",
    "    instruction = parse_instruction(ip, memory)\n",
    "    \n",
    "    if instruction['operation'] == 'add':\n",
    "        memory[instruction['param3']] = instruction['param1'] + instruction['param2']\n",
    "    elif instruction['operation'] == 'multiply':\n",
    "        memory[instruction['param3']] = instruction['param1'] * instruction['param2']\n",
    "    elif instruction['operation'] == 'input':\n",
    "        memory[instruction['param1']] = int(input())\n",
    "    elif instruction['operation'] == 'output':\n",
    "        print(instruction['param1'] if instruction['mode_param1'] == 'immediate' else memory[instruction['param1']])\n",
    "    else:\n",
    "        assert False\n",
    "    \n",
    "    return {\n",
    "        'ip': instruction['next_ip'],\n",
    "        'memory': memory\n",
    "    }"
   ]
  },
  {
   "cell_type": "code",
   "execution_count": 10,
   "metadata": {},
   "outputs": [],
   "source": [
    "def run_program(program):\n",
    "    memory = build_memory(program)\n",
    "    ip = 0\n",
    "    \n",
    "    while memory[ip] != 99:\n",
    "        ip, memory = operator.itemgetter('ip', 'memory')(execute_instruction(ip, memory))"
   ]
  },
  {
   "cell_type": "markdown",
   "metadata": {},
   "source": [
    "## Tests"
   ]
  },
  {
   "cell_type": "code",
   "execution_count": 11,
   "metadata": {},
   "outputs": [],
   "source": [
    "assert read_program('1002,4,3,4,33') == [1002, 4, 3, 4, 33]"
   ]
  },
  {
   "cell_type": "code",
   "execution_count": 12,
   "metadata": {},
   "outputs": [],
   "source": [
    "assert build_memory('1002,4,3,4,33') == {0: 1002, 1: 4, 2: 3, 3: 4, 4: 33}"
   ]
  },
  {
   "cell_type": "code",
   "execution_count": 13,
   "metadata": {},
   "outputs": [],
   "source": [
    "assert parse_opcode(1002) == {\n",
    "    'operation': 'multiply',\n",
    "    'mode_param1': 'position',\n",
    "    'mode_param2': 'immediate',\n",
    "    'mode_param3': 'target',\n",
    "    'ip_shift': 4\n",
    "}"
   ]
  },
  {
   "cell_type": "code",
   "execution_count": 14,
   "metadata": {},
   "outputs": [],
   "source": [
    "assert get_param_value(memory=build_memory('1002,4,3,4,33'),\n",
    "                       mode='immediate',\n",
    "                       value=50) == 50\n",
    "assert get_param_value(memory=build_memory('1002,4,3,4,33'),\n",
    "                       mode='position',\n",
    "                       value=4) == 33\n",
    "assert get_param_value(memory=build_memory('1004,4,3,4,33'),\n",
    "                       mode='target',\n",
    "                       value=4) == 4"
   ]
  },
  {
   "cell_type": "code",
   "execution_count": 15,
   "metadata": {},
   "outputs": [],
   "source": [
    "assert (parse_instruction(ip=0,\n",
    "                          memory=build_memory('1002,4,3,4,33'))\n",
    "        == {'operation': 'multiply',\n",
    "            'param1': 33,\n",
    "            'param2': 3,\n",
    "            'param3': 4,\n",
    "            'next_ip': 4})"
   ]
  },
  {
   "cell_type": "code",
   "execution_count": 16,
   "metadata": {},
   "outputs": [],
   "source": [
    "assert (execute_instruction(ip=0,\n",
    "                            memory=build_memory('1002,4,3,4,33'))\n",
    "        == {'memory': {0: 1002, 1: 4, 2: 3, 3: 4, 4: 99},\n",
    "            'ip': 4})"
   ]
  },
  {
   "cell_type": "markdown",
   "metadata": {},
   "source": [
    "## Data"
   ]
  },
  {
   "cell_type": "code",
   "execution_count": 17,
   "metadata": {},
   "outputs": [],
   "source": [
    "program = '3,225,1,225,6,6,1100,1,238,225,104,0,1102,45,16,225,2,65,191,224,1001,224,-3172,224,4,224,102,8,223,223,1001,224,5,224,1,223,224,223,1102,90,55,225,101,77,143,224,101,-127,224,224,4,224,102,8,223,223,1001,224,7,224,1,223,224,223,1102,52,6,225,1101,65,90,225,1102,75,58,225,1102,53,17,224,1001,224,-901,224,4,224,1002,223,8,223,1001,224,3,224,1,224,223,223,1002,69,79,224,1001,224,-5135,224,4,224,1002,223,8,223,1001,224,5,224,1,224,223,223,102,48,40,224,1001,224,-2640,224,4,224,102,8,223,223,1001,224,1,224,1,224,223,223,1101,50,22,225,1001,218,29,224,101,-119,224,224,4,224,102,8,223,223,1001,224,2,224,1,223,224,223,1101,48,19,224,1001,224,-67,224,4,224,102,8,223,223,1001,224,6,224,1,223,224,223,1101,61,77,225,1,13,74,224,1001,224,-103,224,4,224,1002,223,8,223,101,3,224,224,1,224,223,223,1102,28,90,225,4,223,99,0,0,0,677,0,0,0,0,0,0,0,0,0,0,0,1105,0,99999,1105,227,247,1105,1,99999,1005,227,99999,1005,0,256,1105,1,99999,1106,227,99999,1106,0,265,1105,1,99999,1006,0,99999,1006,227,274,1105,1,99999,1105,1,280,1105,1,99999,1,225,225,225,1101,294,0,0,105,1,0,1105,1,99999,1106,0,300,1105,1,99999,1,225,225,225,1101,314,0,0,106,0,0,1105,1,99999,7,226,677,224,102,2,223,223,1005,224,329,1001,223,1,223,8,226,677,224,1002,223,2,223,1005,224,344,101,1,223,223,8,226,226,224,1002,223,2,223,1006,224,359,101,1,223,223,1008,677,226,224,1002,223,2,223,1005,224,374,1001,223,1,223,108,677,677,224,1002,223,2,223,1005,224,389,1001,223,1,223,1107,226,677,224,1002,223,2,223,1006,224,404,101,1,223,223,1008,226,226,224,102,2,223,223,1006,224,419,1001,223,1,223,7,677,226,224,1002,223,2,223,1005,224,434,101,1,223,223,1108,226,226,224,1002,223,2,223,1005,224,449,101,1,223,223,7,226,226,224,102,2,223,223,1005,224,464,101,1,223,223,108,677,226,224,102,2,223,223,1005,224,479,1001,223,1,223,1007,677,226,224,1002,223,2,223,1006,224,494,1001,223,1,223,1007,677,677,224,1002,223,2,223,1006,224,509,1001,223,1,223,107,677,677,224,1002,223,2,223,1005,224,524,101,1,223,223,1108,226,677,224,102,2,223,223,1006,224,539,1001,223,1,223,8,677,226,224,102,2,223,223,1005,224,554,101,1,223,223,1007,226,226,224,102,2,223,223,1006,224,569,1001,223,1,223,107,677,226,224,102,2,223,223,1005,224,584,1001,223,1,223,108,226,226,224,102,2,223,223,1006,224,599,1001,223,1,223,107,226,226,224,1002,223,2,223,1006,224,614,1001,223,1,223,1108,677,226,224,1002,223,2,223,1005,224,629,1001,223,1,223,1107,677,677,224,102,2,223,223,1005,224,644,1001,223,1,223,1008,677,677,224,102,2,223,223,1005,224,659,101,1,223,223,1107,677,226,224,1002,223,2,223,1006,224,674,101,1,223,223,4,223,99,226'"
   ]
  },
  {
   "cell_type": "code",
   "execution_count": 18,
   "metadata": {},
   "outputs": [
    {
     "name": "stdout",
     "output_type": "stream",
     "text": [
      "1\n",
      "0\n",
      "0\n",
      "0\n",
      "0\n",
      "0\n",
      "0\n",
      "0\n",
      "0\n",
      "0\n",
      "12440243\n"
     ]
    }
   ],
   "source": [
    "run_program(program)"
   ]
  },
  {
   "cell_type": "markdown",
   "metadata": {},
   "source": [
    "## Part 2 - Problem Statement"
   ]
  },
  {
   "cell_type": "markdown",
   "metadata": {},
   "source": [
    "Your computer is only missing a few opcodes:\n",
    "\n",
    "* Opcode 5 is jump-if-true: if the first parameter is non-zero, it sets the instruction pointer to the value from the second parameter. Otherwise, it does nothing.\n",
    "* Opcode 6 is jump-if-false: if the first parameter is zero, it sets the instruction pointer to the value from the second parameter. Otherwise, it does nothing.\n",
    "* Opcode 7 is less than: if the first parameter is less than the second parameter, it stores 1 in the position given by the third parameter. Otherwise, it stores 0.\n",
    "* Opcode 8 is equals: if the first parameter is equal to the second parameter, it stores 1 in the position given by the third parameter. Otherwise, it stores 0.\n",
    "\n",
    "\n",
    "Like all instructions, these instructions need to support parameter modes as described above.\n",
    "\n",
    "Normally, after an instruction is finished, the instruction pointer increases by the number of values in that instruction. However, if the instruction modifies the instruction pointer, that value is used and the instruction pointer is not automatically increased."
   ]
  },
  {
   "cell_type": "markdown",
   "metadata": {},
   "source": [
    "## Solution"
   ]
  },
  {
   "cell_type": "code",
   "execution_count": 19,
   "metadata": {},
   "outputs": [],
   "source": [
    "operation = {\n",
    "    '01': 'add',\n",
    "    '02': 'multiply',\n",
    "    '03': 'input',\n",
    "    '04': 'output',\n",
    "    '05': 'jump-if-true',\n",
    "    '06': 'jump-if-false',\n",
    "    '07': 'less-than',\n",
    "    '08': 'equals'\n",
    "}"
   ]
  },
  {
   "cell_type": "code",
   "execution_count": 25,
   "metadata": {},
   "outputs": [],
   "source": [
    "def parse_opcode(opcode):\n",
    "    opcode = f'{opcode:05}'\n",
    "    instruction = opcode[3:]\n",
    "    \n",
    "    op = operation[instruction]\n",
    "    if op in ('add', 'multiply', 'less-than', 'equals'):\n",
    "        return {\n",
    "            'operation': op,\n",
    "            'mode_param1': mode[opcode[2]],\n",
    "            'mode_param2': mode[opcode[1]],\n",
    "            'mode_param3': 'target',\n",
    "            'ip_shift': 4\n",
    "        }\n",
    "    elif op in ('input', 'output'):\n",
    "        return {\n",
    "            'operation': op,\n",
    "            'mode_param1': 'target' if mode[opcode[2]] != 'immediate' else 'immediate',\n",
    "            'ip_shift': 2\n",
    "        }\n",
    "    elif op in ('jump-if-true', 'jump-if-false'):\n",
    "        return {\n",
    "            'operation': op,\n",
    "            'mode_param1': mode[opcode[2]],\n",
    "            'mode_param2': mode[opcode[1]],\n",
    "            'ip_shift': 'jump'\n",
    "        }\n",
    "    else:\n",
    "        assert False"
   ]
  },
  {
   "cell_type": "code",
   "execution_count": 26,
   "metadata": {},
   "outputs": [],
   "source": [
    "def parse_instruction(ip, memory):\n",
    "    opcode = memory[ip]\n",
    "    instruction = parse_opcode(opcode)\n",
    "    operation = instruction['operation']\n",
    "    \n",
    "    if operation in ('add', 'multiply', 'less-than', 'equals'):\n",
    "        param1 = get_param_value(memory, instruction['mode_param1'], memory[ip+1])\n",
    "        param2 = get_param_value(memory, instruction['mode_param2'], memory[ip+2])\n",
    "        param3 = get_param_value(memory, instruction['mode_param3'], memory[ip+3])\n",
    "        return {'operation': operation,\n",
    "                'param1': param1,\n",
    "                'param2': param2,\n",
    "                'param3': param3,\n",
    "                'next_ip': ip + instruction['ip_shift']}\n",
    "    elif operation in ('input', 'output'):\n",
    "        param1 = get_param_value(memory, instruction['mode_param1'], memory[ip+1])\n",
    "        return {'operation': operation,\n",
    "                'param1': param1,\n",
    "                'mode_param1': instruction['mode_param1'],\n",
    "                'next_ip': ip + instruction['ip_shift']}\n",
    "    elif operation in ('jump-if-true', 'jump-if-false'):\n",
    "        param1 = get_param_value(memory, instruction['mode_param1'], memory[ip+1])\n",
    "        param2 = get_param_value(memory, instruction['mode_param2'], memory[ip+2])\n",
    "        return {'operation': operation,\n",
    "                'param1': param1,\n",
    "                'param2': param2,\n",
    "                'next_ip': 'jump'}\n",
    "    else:\n",
    "        assert False"
   ]
  },
  {
   "cell_type": "code",
   "execution_count": 27,
   "metadata": {},
   "outputs": [],
   "source": [
    "def execute_instruction(ip, memory, input_function, output):\n",
    "    instruction = parse_instruction(ip, memory)\n",
    "    \n",
    "    if instruction['operation'] == 'add':\n",
    "        memory[instruction['param3']] = instruction['param1'] + instruction['param2']\n",
    "    elif instruction['operation'] == 'multiply':\n",
    "        memory[instruction['param3']] = instruction['param1'] * instruction['param2']\n",
    "    elif instruction['operation'] == 'input':\n",
    "        memory[instruction['param1']] = int(input_function())\n",
    "    elif instruction['operation'] == 'output':\n",
    "        output.append(instruction['param1'] if instruction['mode_param1'] == 'immediate' else memory[instruction['param1']])\n",
    "    elif instruction['operation'] == 'jump-if-true':\n",
    "        instruction['next_ip'] = instruction['param2'] if instruction['param1'] != 0 else ip + 3\n",
    "    elif instruction['operation'] == 'jump-if-false':\n",
    "        instruction['next_ip'] = instruction['param2'] if instruction['param1'] == 0 else ip + 3\n",
    "    elif instruction['operation'] == 'less-than':\n",
    "        memory[instruction['param3']] = 1 if instruction['param1'] < instruction['param2'] else 0\n",
    "    elif instruction['operation'] == 'equals':\n",
    "        memory[instruction['param3']] = 1 if instruction['param1'] == instruction['param2'] else 0\n",
    "    else:\n",
    "        assert False\n",
    "    \n",
    "    return {\n",
    "        'ip': instruction['next_ip'],\n",
    "        'memory': memory,\n",
    "        'output': output\n",
    "    }"
   ]
  },
  {
   "cell_type": "code",
   "execution_count": 23,
   "metadata": {},
   "outputs": [],
   "source": [
    "def run_program(program, input_function=input):\n",
    "    memory = build_memory(program)\n",
    "    ip = 0\n",
    "    \n",
    "    output = []\n",
    "    while memory[ip] != 99:\n",
    "        ip, memory, output = operator.itemgetter('ip', 'memory', 'output')(execute_instruction(ip, memory, input_function, output))\n",
    "    \n",
    "    return output"
   ]
  },
  {
   "cell_type": "markdown",
   "metadata": {},
   "source": [
    "## Tests"
   ]
  },
  {
   "cell_type": "code",
   "execution_count": 28,
   "metadata": {},
   "outputs": [],
   "source": [
    "assert run_program('3,9,8,9,10,9,4,9,99,-1,8', lambda : 8) == [1]\n",
    "assert run_program('3,9,8,9,10,9,4,9,99,-1,8', lambda : 7) == [0]"
   ]
  },
  {
   "cell_type": "code",
   "execution_count": 29,
   "metadata": {},
   "outputs": [],
   "source": [
    "assert run_program('3,9,7,9,10,9,4,9,99,-1,8', lambda : 8) == [0]\n",
    "assert run_program('3,9,7,9,10,9,4,9,99,-1,8', lambda : 7) == [1]"
   ]
  },
  {
   "cell_type": "code",
   "execution_count": 30,
   "metadata": {},
   "outputs": [],
   "source": [
    "assert run_program('3,3,1108,-1,8,3,4,3,99', lambda : 8) == [1]\n",
    "assert run_program('3,3,1108,-1,8,3,4,3,99', lambda : 7) == [0]"
   ]
  },
  {
   "cell_type": "code",
   "execution_count": 31,
   "metadata": {},
   "outputs": [],
   "source": [
    "assert run_program('3,3,1107,-1,8,3,4,3,99', lambda : 8) == [0]\n",
    "assert run_program('3,3,1107,-1,8,3,4,3,99', lambda : 7) == [1]"
   ]
  },
  {
   "cell_type": "code",
   "execution_count": 32,
   "metadata": {},
   "outputs": [],
   "source": [
    "assert run_program('3,12,6,12,15,1,13,14,13,4,13,99,-1,0,1,9', lambda : 0) == [0]\n",
    "assert run_program('3,12,6,12,15,1,13,14,13,4,13,99,-1,0,1,9', lambda : 10) == [1]"
   ]
  },
  {
   "cell_type": "code",
   "execution_count": 33,
   "metadata": {},
   "outputs": [],
   "source": [
    "assert run_program('3,3,1105,-1,9,1101,0,0,12,4,12,99,1', lambda : 0) == [0]\n",
    "assert run_program('3,3,1105,-1,9,1101,0,0,12,4,12,99,1', lambda : 10) == [1]"
   ]
  },
  {
   "cell_type": "code",
   "execution_count": 34,
   "metadata": {},
   "outputs": [],
   "source": [
    "test_program = '''\n",
    "3,21,1008,21,8,20,1005,20,22,107,8,21,20,1006,20,31,\n",
    "1106,0,36,98,0,0,1002,21,125,20,4,20,1105,1,46,104,\n",
    "999,1105,1,46,1101,1000,1,20,4,20,1105,1,46,98,99'''\n",
    "\n",
    "assert run_program(test_program, lambda : 7) == [999]\n",
    "assert run_program(test_program, lambda : 8) == [1000]\n",
    "assert run_program(test_program, lambda : 9) == [1001]"
   ]
  },
  {
   "cell_type": "code",
   "execution_count": 35,
   "metadata": {},
   "outputs": [
    {
     "name": "stdout",
     "output_type": "stream",
     "text": [
      "5\n"
     ]
    },
    {
     "data": {
      "text/plain": [
       "[15486302]"
      ]
     },
     "execution_count": 35,
     "metadata": {},
     "output_type": "execute_result"
    }
   ],
   "source": [
    "run_program(program)"
   ]
  }
 ],
 "metadata": {
  "anaconda-cloud": {},
  "kernelspec": {
   "display_name": "Python [conda env:pymc3]",
   "language": "python",
   "name": "conda-env-pymc3-py"
  },
  "language_info": {
   "codemirror_mode": {
    "name": "ipython",
    "version": 3
   },
   "file_extension": ".py",
   "mimetype": "text/x-python",
   "name": "python",
   "nbconvert_exporter": "python",
   "pygments_lexer": "ipython3",
   "version": "3.7.3"
  }
 },
 "nbformat": 4,
 "nbformat_minor": 2
}
