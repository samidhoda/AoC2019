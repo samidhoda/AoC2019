{
 "cells": [
  {
   "cell_type": "markdown",
   "metadata": {},
   "source": [
    "# AoC - Day 7"
   ]
  },
  {
   "cell_type": "markdown",
   "metadata": {},
   "source": [
    "## Part 1 - Problem Statement"
   ]
  },
  {
   "cell_type": "markdown",
   "metadata": {},
   "source": [
    "Based on the navigational maps, you're going to need to send more power to your ship's thrusters to reach Santa in time. To do this, you'll need to configure a series of amplifiers already installed on the ship.\n",
    "\n",
    "There are five amplifiers connected in series; each one receives an input signal and produces an output signal. They are connected such that the first amplifier's output leads to the second amplifier's input, the second amplifier's output leads to the third amplifier's input, and so on. The first amplifier's input value is 0, and the last amplifier's output leads to your ship's thrusters.\n",
    "\n",
    "```\n",
    "    O-------O  O-------O  O-------O  O-------O  O-------O\n",
    "    \n",
    "0 ->| Amp A |->| Amp B |->| Amp C |->| Amp D |->| Amp E |-> (to thrusters)\n",
    "\n",
    "    O-------O  O-------O  O-------O  O-------O  O-------O\n",
    "```\n",
    "\n",
    "The Elves have sent you some Amplifier Controller Software (your puzzle input), a program that should run on your existing Intcode computer. Each amplifier will need to run a copy of the program.\n",
    "\n",
    "When a copy of the program starts running on an amplifier, it will first use an input instruction to ask the amplifier for its current phase setting (an integer from 0 to 4). Each phase setting is used exactly once, but the Elves can't remember which amplifier needs which phase setting.\n",
    "\n",
    "The program will then call another input instruction to get the amplifier's input signal, compute the correct output signal, and supply it back to the amplifier with an output instruction. (If the amplifier has not yet received an input signal, it waits until one arrives.)\n",
    "\n",
    "Your job is to find the largest output signal that can be sent to the thrusters by trying every possible combination of phase settings on the amplifiers. Make sure that memory is not shared or reused between copies of the program.\n",
    "\n",
    "For example, suppose you want to try the phase setting sequence 3,1,2,4,0, which would mean setting amplifier A to phase setting 3, amplifier B to setting 1, C to 2, D to 4, and E to 0. Then, you could determine the output signal that gets sent from amplifier E to the thrusters with the following steps:\n",
    "\n",
    "* Start the copy of the amplifier controller software that will run on amplifier A. At its first input instruction, provide it the amplifier's phase setting, 3. At its second input instruction, provide it the input signal, 0. After some calculations, it will use an output instruction to indicate the amplifier's output signal.\n",
    "* Start the software for amplifier B. Provide it the phase setting (1) and then whatever output signal was produced from amplifier A. It will then produce a new output signal destined for amplifier C.\n",
    "* Start the software for amplifier C, provide the phase setting (2) and the value from amplifier B, then collect its output signal.\n",
    "* Run amplifier D's software, provide the phase setting (4) and input value, and collect its output signal.\n",
    "* Run amplifier E's software, provide the phase setting (0) and input value, and collect its output signal.\n",
    "\n",
    "The final output signal from amplifier E would be sent to the thrusters. However, this phase setting sequence may not have been the best one; another sequence might have sent a higher signal to the thrusters."
   ]
  },
  {
   "cell_type": "markdown",
   "metadata": {},
   "source": [
    "## Solution"
   ]
  },
  {
   "cell_type": "code",
   "execution_count": 24,
   "metadata": {},
   "outputs": [],
   "source": [
    "from functools import reduce\n",
    "from itertools import permutations\n",
    "import operator"
   ]
  },
  {
   "cell_type": "code",
   "execution_count": 2,
   "metadata": {},
   "outputs": [],
   "source": [
    "def read_program(program):\n",
    "    return [int(token) for token in program.split(',')]"
   ]
  },
  {
   "cell_type": "code",
   "execution_count": 3,
   "metadata": {},
   "outputs": [],
   "source": [
    "def build_memory(program):\n",
    "    return dict(enumerate(read_program(program)))"
   ]
  },
  {
   "cell_type": "code",
   "execution_count": 4,
   "metadata": {},
   "outputs": [],
   "source": [
    "operation = {\n",
    "    '01': 'add',\n",
    "    '02': 'multiply',\n",
    "    '03': 'input',\n",
    "    '04': 'output',\n",
    "    '05': 'jump-if-true',\n",
    "    '06': 'jump-if-false',\n",
    "    '07': 'less-than',\n",
    "    '08': 'equals'\n",
    "}"
   ]
  },
  {
   "cell_type": "code",
   "execution_count": 5,
   "metadata": {},
   "outputs": [],
   "source": [
    "mode = {\n",
    "    '0': 'position',\n",
    "    '1': 'immediate'\n",
    "}"
   ]
  },
  {
   "cell_type": "code",
   "execution_count": 6,
   "metadata": {},
   "outputs": [],
   "source": [
    "def parse_opcode(opcode):\n",
    "    opcode = f'{opcode:05}'\n",
    "    instruction = opcode[3:]\n",
    "    \n",
    "    op = operation[instruction]\n",
    "    if op in ('add', 'multiply', 'less-than', 'equals'):\n",
    "        return {\n",
    "            'operation': op,\n",
    "            'mode_param1': mode[opcode[2]],\n",
    "            'mode_param2': mode[opcode[1]],\n",
    "            'mode_param3': 'target',\n",
    "            'ip_shift': 4\n",
    "        }\n",
    "    elif op in ('input', 'output'):\n",
    "        return {\n",
    "            'operation': op,\n",
    "            'mode_param1': 'target' if mode[opcode[2]] != 'immediate' else 'immediate',\n",
    "            'ip_shift': 2\n",
    "        }\n",
    "    elif op in ('jump-if-true', 'jump-if-false'):\n",
    "        return {\n",
    "            'operation': op,\n",
    "            'mode_param1': mode[opcode[2]],\n",
    "            'mode_param2': mode[opcode[1]],\n",
    "            'ip_shift': 'jump'\n",
    "        }\n",
    "    else:\n",
    "        assert False"
   ]
  },
  {
   "cell_type": "code",
   "execution_count": 7,
   "metadata": {},
   "outputs": [],
   "source": [
    "def get_param_value(memory, mode, value):\n",
    "    return memory[value] if mode == 'position' else value"
   ]
  },
  {
   "cell_type": "code",
   "execution_count": 8,
   "metadata": {},
   "outputs": [],
   "source": [
    "def parse_instruction(ip, memory):\n",
    "    opcode = memory[ip]\n",
    "    instruction = parse_opcode(opcode)\n",
    "    operation = instruction['operation']\n",
    "    \n",
    "    if operation in ('add', 'multiply', 'less-than', 'equals'):\n",
    "        param1 = get_param_value(memory, instruction['mode_param1'], memory[ip+1])\n",
    "        param2 = get_param_value(memory, instruction['mode_param2'], memory[ip+2])\n",
    "        param3 = get_param_value(memory, instruction['mode_param3'], memory[ip+3])\n",
    "        return {'operation': operation,\n",
    "                'param1': param1,\n",
    "                'param2': param2,\n",
    "                'param3': param3,\n",
    "                'next_ip': ip + instruction['ip_shift']}\n",
    "    elif operation in ('input', 'output'):\n",
    "        param1 = get_param_value(memory, instruction['mode_param1'], memory[ip+1])\n",
    "        return {'operation': operation,\n",
    "                'param1': param1,\n",
    "                'mode_param1': instruction['mode_param1'],\n",
    "                'next_ip': ip + instruction['ip_shift']}\n",
    "    elif operation in ('jump-if-true', 'jump-if-false'):\n",
    "        param1 = get_param_value(memory, instruction['mode_param1'], memory[ip+1])\n",
    "        param2 = get_param_value(memory, instruction['mode_param2'], memory[ip+2])\n",
    "        return {'operation': operation,\n",
    "                'param1': param1,\n",
    "                'param2': param2,\n",
    "                'next_ip': 'jump'}\n",
    "    else:\n",
    "        assert False"
   ]
  },
  {
   "cell_type": "code",
   "execution_count": 9,
   "metadata": {},
   "outputs": [],
   "source": [
    "def execute_instruction(ip, memory, input_generator, output):\n",
    "    instruction = parse_instruction(ip, memory)\n",
    "    \n",
    "    if instruction['operation'] == 'add':\n",
    "        memory[instruction['param3']] = instruction['param1'] + instruction['param2']\n",
    "    elif instruction['operation'] == 'multiply':\n",
    "        memory[instruction['param3']] = instruction['param1'] * instruction['param2']\n",
    "    elif instruction['operation'] == 'input':\n",
    "        memory[instruction['param1']] = int(next(input_generator))\n",
    "    elif instruction['operation'] == 'output':\n",
    "        output.append(instruction['param1'] if instruction['mode_param1'] == 'immediate' else memory[instruction['param1']])\n",
    "    elif instruction['operation'] == 'jump-if-true':\n",
    "        instruction['next_ip'] = instruction['param2'] if instruction['param1'] != 0 else ip + 3\n",
    "    elif instruction['operation'] == 'jump-if-false':\n",
    "        instruction['next_ip'] = instruction['param2'] if instruction['param1'] == 0 else ip + 3\n",
    "    elif instruction['operation'] == 'less-than':\n",
    "        memory[instruction['param3']] = 1 if instruction['param1'] < instruction['param2'] else 0\n",
    "    elif instruction['operation'] == 'equals':\n",
    "        memory[instruction['param3']] = 1 if instruction['param1'] == instruction['param2'] else 0\n",
    "    else:\n",
    "        assert False\n",
    "    \n",
    "    return {\n",
    "        'ip': instruction['next_ip'],\n",
    "        'memory': memory,\n",
    "        'output': output\n",
    "    }"
   ]
  },
  {
   "cell_type": "code",
   "execution_count": 10,
   "metadata": {},
   "outputs": [],
   "source": [
    "def run_program(program, input_generator):\n",
    "    memory = build_memory(program)\n",
    "    ip = 0\n",
    "    \n",
    "    output = []\n",
    "    while memory[ip] != 99:\n",
    "        ip, memory, output = operator.itemgetter('ip', 'memory', 'output')(execute_instruction(ip, memory, input_generator, output))\n",
    "    \n",
    "    return output"
   ]
  },
  {
   "cell_type": "code",
   "execution_count": 11,
   "metadata": {},
   "outputs": [],
   "source": [
    "def simulate_amplifier_chain(program, settings):\n",
    "    \n",
    "    input_0 = 0\n",
    "    output_1 = run_program(program, (i for i in (settings[0], input_0)))[0]\n",
    "    output_2 = run_program(program, (i for i in (settings[1], output_1)))[0]\n",
    "    output_3 = run_program(program, (i for i in (settings[2], output_2)))[0]\n",
    "    output_4 = run_program(program, (i for i in (settings[3], output_3)))[0]\n",
    "    output_5 = run_program(program, (i for i in (settings[4], output_4)))[0]\n",
    "\n",
    "    return output_5"
   ]
  },
  {
   "cell_type": "markdown",
   "metadata": {},
   "source": [
    "## Tests"
   ]
  },
  {
   "cell_type": "code",
   "execution_count": 12,
   "metadata": {},
   "outputs": [],
   "source": [
    "assert run_program('3,9,8,9,10,9,4,9,99,-1,8', (i for i in [8])) == [1]\n",
    "assert run_program('3,9,8,9,10,9,4,9,99,-1,8', (i for i in [7])) == [0]"
   ]
  },
  {
   "cell_type": "code",
   "execution_count": 13,
   "metadata": {},
   "outputs": [],
   "source": [
    "assert run_program('3,9,7,9,10,9,4,9,99,-1,8', (i for i in [8])) == [0]\n",
    "assert run_program('3,9,7,9,10,9,4,9,99,-1,8', (i for i in [7])) == [1]"
   ]
  },
  {
   "cell_type": "code",
   "execution_count": 14,
   "metadata": {},
   "outputs": [],
   "source": [
    "assert run_program('3,3,1108,-1,8,3,4,3,99', (i for i in [8])) == [1]\n",
    "assert run_program('3,3,1108,-1,8,3,4,3,99', (i for i in [7])) == [0]"
   ]
  },
  {
   "cell_type": "code",
   "execution_count": 15,
   "metadata": {},
   "outputs": [],
   "source": [
    "assert run_program('3,3,1107,-1,8,3,4,3,99', (i for i in [8])) == [0]\n",
    "assert run_program('3,3,1107,-1,8,3,4,3,99', (i for i in [7])) == [1]"
   ]
  },
  {
   "cell_type": "code",
   "execution_count": 16,
   "metadata": {},
   "outputs": [],
   "source": [
    "assert run_program('3,12,6,12,15,1,13,14,13,4,13,99,-1,0,1,9', (i for i in [0])) == [0]\n",
    "assert run_program('3,12,6,12,15,1,13,14,13,4,13,99,-1,0,1,9', (i for i in [10])) == [1]"
   ]
  },
  {
   "cell_type": "code",
   "execution_count": 17,
   "metadata": {},
   "outputs": [],
   "source": [
    "assert run_program('3,3,1105,-1,9,1101,0,0,12,4,12,99,1', (i for i in [0])) == [0]\n",
    "assert run_program('3,3,1105,-1,9,1101,0,0,12,4,12,99,1', (i for i in [10])) == [1]"
   ]
  },
  {
   "cell_type": "code",
   "execution_count": 18,
   "metadata": {},
   "outputs": [],
   "source": [
    "test_program = '''\n",
    "3,21,1008,21,8,20,1005,20,22,107,8,21,20,1006,20,31,\n",
    "1106,0,36,98,0,0,1002,21,125,20,4,20,1105,1,46,104,\n",
    "999,1105,1,46,1101,1000,1,20,4,20,1105,1,46,98,99'''\n",
    "\n",
    "assert run_program(test_program, (i for i in [7])) == [999]\n",
    "assert run_program(test_program, (i for i in [8])) == [1000]\n",
    "assert run_program(test_program, (i for i in [9])) == [1001]"
   ]
  },
  {
   "cell_type": "code",
   "execution_count": 19,
   "metadata": {},
   "outputs": [],
   "source": [
    "test_program = '3,15,3,16,1002,16,10,16,1,16,15,15,4,15,99,0,0'\n",
    "assert simulate_amplifier_chain(test_program, (4,3,2,1,0)) == 43210"
   ]
  },
  {
   "cell_type": "code",
   "execution_count": 20,
   "metadata": {},
   "outputs": [],
   "source": [
    "test_program = '3,23,3,24,1002,24,10,24,1002,23,-1,23,101,5,23,23,1,24,23,23,4,23,99,0,0'\n",
    "assert simulate_amplifier_chain(test_program, (0,1,2,3,4)) == 54321"
   ]
  },
  {
   "cell_type": "code",
   "execution_count": 21,
   "metadata": {},
   "outputs": [],
   "source": [
    "test_program = '3,31,3,32,1002,32,10,32,1001,31,-2,31,1007,31,0,33,1002,33,7,33,1,33,31,31,1,32,31,31,4,31,99,0,0,0'\n",
    "assert simulate_amplifier_chain(test_program, (1,0,4,3,2)) == 65210"
   ]
  },
  {
   "cell_type": "markdown",
   "metadata": {},
   "source": [
    "## Data"
   ]
  },
  {
   "cell_type": "code",
   "execution_count": 22,
   "metadata": {},
   "outputs": [],
   "source": [
    "program = '3,8,1001,8,10,8,105,1,0,0,21,38,55,64,81,106,187,268,349,430,99999,3,9,101,2,9,9,1002,9,2,9,101,5,9,9,4,9,99,3,9,102,2,9,9,101,3,9,9,1002,9,4,9,4,9,99,3,9,102,2,9,9,4,9,99,3,9,1002,9,5,9,1001,9,4,9,102,4,9,9,4,9,99,3,9,102,2,9,9,1001,9,5,9,102,3,9,9,1001,9,4,9,102,5,9,9,4,9,99,3,9,1002,9,2,9,4,9,3,9,101,2,9,9,4,9,3,9,1002,9,2,9,4,9,3,9,1001,9,2,9,4,9,3,9,1001,9,2,9,4,9,3,9,101,1,9,9,4,9,3,9,1001,9,1,9,4,9,3,9,1001,9,2,9,4,9,3,9,101,1,9,9,4,9,3,9,1001,9,1,9,4,9,99,3,9,1002,9,2,9,4,9,3,9,101,2,9,9,4,9,3,9,1001,9,1,9,4,9,3,9,101,1,9,9,4,9,3,9,101,2,9,9,4,9,3,9,101,2,9,9,4,9,3,9,1001,9,1,9,4,9,3,9,101,1,9,9,4,9,3,9,102,2,9,9,4,9,3,9,101,2,9,9,4,9,99,3,9,1002,9,2,9,4,9,3,9,101,2,9,9,4,9,3,9,102,2,9,9,4,9,3,9,101,2,9,9,4,9,3,9,1001,9,2,9,4,9,3,9,1002,9,2,9,4,9,3,9,1002,9,2,9,4,9,3,9,101,2,9,9,4,9,3,9,1001,9,2,9,4,9,3,9,101,1,9,9,4,9,99,3,9,102,2,9,9,4,9,3,9,1001,9,2,9,4,9,3,9,1002,9,2,9,4,9,3,9,102,2,9,9,4,9,3,9,102,2,9,9,4,9,3,9,101,2,9,9,4,9,3,9,101,1,9,9,4,9,3,9,101,1,9,9,4,9,3,9,1001,9,1,9,4,9,3,9,102,2,9,9,4,9,99,3,9,101,1,9,9,4,9,3,9,1002,9,2,9,4,9,3,9,102,2,9,9,4,9,3,9,1002,9,2,9,4,9,3,9,101,1,9,9,4,9,3,9,102,2,9,9,4,9,3,9,1002,9,2,9,4,9,3,9,1002,9,2,9,4,9,3,9,101,1,9,9,4,9,3,9,102,2,9,9,4,9,99'"
   ]
  },
  {
   "cell_type": "code",
   "execution_count": 25,
   "metadata": {},
   "outputs": [
    {
     "data": {
      "text/plain": [
       "117312"
      ]
     },
     "execution_count": 25,
     "metadata": {},
     "output_type": "execute_result"
    }
   ],
   "source": [
    "signals = []\n",
    "signals = [simulate_amplifier_chain(program, settings)\n",
    "           for settings in permutations(range(5))]\n",
    "max(signals)   "
   ]
  },
  {
   "cell_type": "code",
   "execution_count": null,
   "metadata": {},
   "outputs": [],
   "source": []
  },
  {
   "cell_type": "markdown",
   "metadata": {},
   "source": [
    "## Part 2 - Problem Statement"
   ]
  },
  {
   "cell_type": "markdown",
   "metadata": {},
   "source": [
    "## Solution"
   ]
  },
  {
   "cell_type": "markdown",
   "metadata": {},
   "source": [
    "## Tests"
   ]
  }
 ],
 "metadata": {
  "anaconda-cloud": {},
  "kernelspec": {
   "display_name": "Python [conda env:pymc3]",
   "language": "python",
   "name": "conda-env-pymc3-py"
  },
  "language_info": {
   "codemirror_mode": {
    "name": "ipython",
    "version": 3
   },
   "file_extension": ".py",
   "mimetype": "text/x-python",
   "name": "python",
   "nbconvert_exporter": "python",
   "pygments_lexer": "ipython3",
   "version": "3.7.3"
  }
 },
 "nbformat": 4,
 "nbformat_minor": 2
}
