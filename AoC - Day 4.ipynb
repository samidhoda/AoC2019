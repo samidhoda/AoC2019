{
 "cells": [
  {
   "cell_type": "markdown",
   "metadata": {},
   "source": [
    "# AoC - Day 4"
   ]
  },
  {
   "cell_type": "markdown",
   "metadata": {},
   "source": [
    "## Part 1 - Problem Statement"
   ]
  },
  {
   "cell_type": "markdown",
   "metadata": {},
   "source": [
    "You arrive at the Venus fuel depot only to discover it's protected by a password. The Elves had written the password on a sticky note, but someone threw it out.\n",
    "\n",
    "However, they do remember a few key facts about the password:\n",
    "\n",
    "* It is a six-digit number.\n",
    "* The value is within the range given in your puzzle input.\n",
    "* Two adjacent digits are the same (like 22 in 122345).\n",
    "* Going from left to right, the digits never decrease; they only ever increase or stay the same (like 111123 or 135679).\n",
    "\n",
    "\n",
    "Other than the range rule, the following are true:\n",
    "\n",
    "* 111111 meets these criteria (double 11, never decreases).\n",
    "* 223450 does not meet these criteria (decreasing pair of digits 50).\n",
    "* 123789 does not meet these criteria (no double).\n",
    "\n",
    "\n",
    "How many different passwords within the range given in your puzzle input meet these criteria?"
   ]
  },
  {
   "cell_type": "markdown",
   "metadata": {},
   "source": [
    "## Solution"
   ]
  },
  {
   "cell_type": "code",
   "execution_count": 1,
   "metadata": {},
   "outputs": [],
   "source": [
    "def six_digits(number):\n",
    "    return 100000 <= number < 1000000"
   ]
  },
  {
   "cell_type": "code",
   "execution_count": 3,
   "metadata": {},
   "outputs": [],
   "source": [
    "def make_in_range(lower, upper):\n",
    "    def in_range(number):\n",
    "        return lower <= number <= upper\n",
    "    \n",
    "    return in_range"
   ]
  },
  {
   "cell_type": "code",
   "execution_count": 6,
   "metadata": {},
   "outputs": [],
   "source": [
    "def listify_number(number):\n",
    "    return [int(digit) for digit in str(number)]"
   ]
  },
  {
   "cell_type": "code",
   "execution_count": 14,
   "metadata": {},
   "outputs": [],
   "source": [
    "def digits_match(digit_list):\n",
    "    first_digit = digit_list[0]\n",
    "    return all(digit == first_digit for digit in digit_list)"
   ]
  },
  {
   "cell_type": "code",
   "execution_count": 17,
   "metadata": {},
   "outputs": [],
   "source": [
    "def adjacent_pairs_match(digit_list):\n",
    "    return any(digits_match(pair) for pair in zip(digit_list[:-1], digit_list[1:]))"
   ]
  },
  {
   "cell_type": "code",
   "execution_count": 27,
   "metadata": {},
   "outputs": [],
   "source": [
    "def non_decreasing(digit_list):\n",
    "    return all(left - right <= 0 for left, right in zip(digit_list[:-1], digit_list[1:]))"
   ]
  },
  {
   "cell_type": "code",
   "execution_count": 38,
   "metadata": {},
   "outputs": [],
   "source": [
    "def build_matcher(lower, upper):\n",
    "    in_range = make_in_range(lower, upper)\n",
    "    \n",
    "    def matcher(number):\n",
    "        if not six_digits(number) or not in_range(number):\n",
    "            return False\n",
    "        \n",
    "        digit_list = listify_number(number)\n",
    "        return adjacent_pairs_match(digit_list) and non_decreasing(digit_list)\n",
    "    \n",
    "    return matcher"
   ]
  },
  {
   "cell_type": "code",
   "execution_count": 30,
   "metadata": {},
   "outputs": [],
   "source": [
    "def count_matches(lower, upper):\n",
    "    meets_criteria = build_matcher(lower, upper)\n",
    "    \n",
    "    return len([True for number in range(lower, upper+1) if meets_criteria(number)])"
   ]
  },
  {
   "cell_type": "markdown",
   "metadata": {},
   "source": [
    "## Tests"
   ]
  },
  {
   "cell_type": "code",
   "execution_count": 25,
   "metadata": {},
   "outputs": [],
   "source": [
    "assert six_digits(100000)\n",
    "assert six_digits(999999)\n",
    "assert not six_digits(99999)\n",
    "assert not six_digits(1000000)"
   ]
  },
  {
   "cell_type": "code",
   "execution_count": 24,
   "metadata": {},
   "outputs": [],
   "source": [
    "assert make_in_range(10, 20)(10)\n",
    "assert make_in_range(10, 20)(20)\n",
    "assert not make_in_range(10, 20)(9)\n",
    "assert not make_in_range(10, 20)(21)"
   ]
  },
  {
   "cell_type": "code",
   "execution_count": 7,
   "metadata": {},
   "outputs": [],
   "source": [
    "assert listify_number(123456) == range(1, 7)"
   ]
  },
  {
   "cell_type": "code",
   "execution_count": 23,
   "metadata": {},
   "outputs": [],
   "source": [
    "assert digits_match([1, 1])\n",
    "assert not digits_match([1, 2])"
   ]
  },
  {
   "cell_type": "code",
   "execution_count": 22,
   "metadata": {},
   "outputs": [],
   "source": [
    "assert adjacent_pairs_match([1] * 6)\n",
    "assert adjacent_pairs_match(listify_number(122345))"
   ]
  },
  {
   "cell_type": "code",
   "execution_count": 28,
   "metadata": {},
   "outputs": [],
   "source": [
    "assert non_decreasing(listify_number(111111))\n",
    "assert non_decreasing(listify_number(122345))\n",
    "assert not non_decreasing(listify_number(213456))"
   ]
  },
  {
   "cell_type": "code",
   "execution_count": 36,
   "metadata": {},
   "outputs": [],
   "source": [
    "assert build_matcher(100000, 199000)(123345)\n",
    "assert not build_matcher(100000, 199000)(123456)"
   ]
  },
  {
   "cell_type": "code",
   "execution_count": 45,
   "metadata": {},
   "outputs": [],
   "source": [
    "assert count_matches(100000, 111111) == 1\n",
    "assert count_matches(100000, 111112) == 2"
   ]
  },
  {
   "cell_type": "markdown",
   "metadata": {},
   "source": [
    "## Solution"
   ]
  },
  {
   "cell_type": "code",
   "execution_count": 46,
   "metadata": {},
   "outputs": [
    {
     "data": {
      "text/plain": [
       "1099"
      ]
     },
     "execution_count": 46,
     "metadata": {},
     "output_type": "execute_result"
    }
   ],
   "source": [
    "count_matches(245182, 790572)"
   ]
  },
  {
   "cell_type": "markdown",
   "metadata": {},
   "source": [
    "## Part 2 - Problem Statement"
   ]
  },
  {
   "cell_type": "markdown",
   "metadata": {},
   "source": [
    "An Elf just remembered one more important detail: the two adjacent matching digits are not part of a larger group of matching digits.\n",
    "\n",
    "Given this additional criterion, but still ignoring the range rule, the following are now true:\n",
    "\n",
    "* 112233 meets these criteria because the digits never decrease and all repeated digits are exactly two digits long.\n",
    "* 123444 no longer meets the criteria (the repeated 44 is part of a larger group of 444).\n",
    "* 111122 meets the criteria (even though 1 is repeated more than twice, it still contains a double 22).\n",
    "\n",
    "\n",
    "How many different passwords within the range given in your puzzle input meet all of the criteria?"
   ]
  },
  {
   "cell_type": "markdown",
   "metadata": {},
   "source": [
    "## Solution"
   ]
  },
  {
   "cell_type": "code",
   "execution_count": 70,
   "metadata": {},
   "outputs": [],
   "source": [
    "def build_runs_list(digit_list):\n",
    "\n",
    "    last_pair_matched = False\n",
    "    runs_list = []\n",
    "    for left, right in zip(digit_list[:-1], digit_list[1:]):\n",
    "        digits_match = left == right\n",
    "        if not last_pair_matched and digits_match:\n",
    "            runs_list.append([left, right])\n",
    "            last_pair_matched = True\n",
    "        elif last_pair_matched and digits_match:\n",
    "            runs_list[-1].append(left)\n",
    "        else:\n",
    "            last_pair_matched = False\n",
    "            \n",
    "    return runs_list"
   ]
  },
  {
   "cell_type": "code",
   "execution_count": 75,
   "metadata": {},
   "outputs": [],
   "source": [
    "def isolated_matching_pair(digit_list):\n",
    "    \n",
    "    runs_list = build_runs_list(digit_list)\n",
    "    run_lengths = [len(run) for run in runs_list]\n",
    "    \n",
    "    return any(length == 2 for length in run_lengths)"
   ]
  },
  {
   "cell_type": "code",
   "execution_count": 78,
   "metadata": {},
   "outputs": [],
   "source": [
    "def build_matcher_2(lower, upper):\n",
    "    in_range = make_in_range(lower, upper)\n",
    "    \n",
    "    def matcher(number):\n",
    "        if not six_digits(number) or not in_range(number):\n",
    "            return False\n",
    "        \n",
    "        digit_list = listify_number(number)\n",
    "        return isolated_matching_pair(digit_list) and non_decreasing(digit_list)\n",
    "    \n",
    "    return matcher"
   ]
  },
  {
   "cell_type": "code",
   "execution_count": 79,
   "metadata": {},
   "outputs": [],
   "source": [
    "def count_matches_2(lower, upper):\n",
    "    meets_criteria = build_matcher_2(lower, upper)\n",
    "    \n",
    "    return len([True for number in range(lower, upper+1) if meets_criteria(number)])"
   ]
  },
  {
   "cell_type": "markdown",
   "metadata": {},
   "source": [
    "## Tests"
   ]
  },
  {
   "cell_type": "code",
   "execution_count": 74,
   "metadata": {},
   "outputs": [],
   "source": [
    "assert build_runs_list(listify_number(112233)) == [[1, 1], [2, 2], [3, 3]]\n",
    "assert build_runs_list(listify_number(123444)) == [[4, 4, 4]]\n",
    "assert build_runs_list(listify_number(111122)) == [[1, 1, 1, 1], [2, 2]]"
   ]
  },
  {
   "cell_type": "code",
   "execution_count": 77,
   "metadata": {},
   "outputs": [],
   "source": [
    "assert isolated_matching_pair(listify_number(112233))\n",
    "assert not isolated_matching_pair(listify_number(123444))\n",
    "assert isolated_matching_pair(listify_number(111122))"
   ]
  },
  {
   "cell_type": "code",
   "execution_count": 80,
   "metadata": {},
   "outputs": [
    {
     "data": {
      "text/plain": [
       "710"
      ]
     },
     "execution_count": 80,
     "metadata": {},
     "output_type": "execute_result"
    }
   ],
   "source": [
    "count_matches_2(245182, 790572)"
   ]
  }
 ],
 "metadata": {
  "anaconda-cloud": {},
  "kernelspec": {
   "display_name": "Python [conda env:root] *",
   "language": "python",
   "name": "conda-root-py"
  },
  "language_info": {
   "codemirror_mode": {
    "name": "ipython",
    "version": 2
   },
   "file_extension": ".py",
   "mimetype": "text/x-python",
   "name": "python",
   "nbconvert_exporter": "python",
   "pygments_lexer": "ipython2",
   "version": "2.7.15"
  }
 },
 "nbformat": 4,
 "nbformat_minor": 2
}
